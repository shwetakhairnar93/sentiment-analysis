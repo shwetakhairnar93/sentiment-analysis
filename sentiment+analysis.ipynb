{
 "cells": [
  {
   "cell_type": "code",
   "execution_count": 36,
   "metadata": {
    "collapsed": true
   },
   "outputs": [],
   "source": [
    "import keras\n"
   ]
  },
  {
   "cell_type": "code",
   "execution_count": 37,
   "metadata": {
    "collapsed": true
   },
   "outputs": [],
   "source": [
    "import numpy\n"
   ]
  },
  {
   "cell_type": "code",
   "execution_count": 38,
   "metadata": {
    "collapsed": true
   },
   "outputs": [],
   "source": [
    "from keras.datasets import imdb"
   ]
  },
  {
   "cell_type": "code",
   "execution_count": 39,
   "metadata": {
    "collapsed": true
   },
   "outputs": [],
   "source": [
    "from matplotlib import pyplot"
   ]
  },
  {
   "cell_type": "code",
   "execution_count": 40,
   "metadata": {
    "collapsed": true
   },
   "outputs": [],
   "source": [
    "(x_train,y_train), (x_test,y_test)= imdb.load_data()"
   ]
  },
  {
   "cell_type": "code",
   "execution_count": 41,
   "metadata": {
    "collapsed": true
   },
   "outputs": [],
   "source": [
    "x=numpy.concatenate((x_train,x_test),axis=0)\n",
    "y=numpy.concatenate((y_train,y_test),axis=0)"
   ]
  },
  {
   "cell_type": "code",
   "execution_count": 42,
   "metadata": {},
   "outputs": [
    {
     "name": "stdout",
     "output_type": "stream",
     "text": [
      "training_data:\n",
      "(50000,)\n",
      "(50000,)\n"
     ]
    }
   ],
   "source": [
    "#summarize the size\n",
    "print(\"training_data:\")\n",
    "print(x.shape)\n",
    "print(y.shape)"
   ]
  },
  {
   "cell_type": "code",
   "execution_count": 43,
   "metadata": {},
   "outputs": [
    {
     "name": "stdout",
     "output_type": "stream",
     "text": [
      "88585\n"
     ]
    }
   ],
   "source": [
    "#summarize number of words\n",
    "print(len(numpy.unique(numpy.hstack(x))))"
   ]
  },
  {
   "cell_type": "code",
   "execution_count": 46,
   "metadata": {},
   "outputs": [
    {
     "name": "stdout",
     "output_type": "stream",
     "text": [
      "mean 234.76 words ( 172.911495)\n"
     ]
    },
    {
     "data": {
      "image/png": "[encoded data removed]",
      "text/plain": [
       "<matplotlib.figure.Figure at 0x1f190891cc0>"
      ]
     },
     "metadata": {},
     "output_type": "display_data"
    }
   ],
   "source": [
    "result=[len(x) for x in x]\n",
    "print(\"mean %.2f words ( %f)\" % (numpy.mean(result),numpy.std(result)))\n",
    "#plot review length\n",
    "pyplot.boxplot(result)\n",
    "pyplot.show()"
   ]
  },
  {
   "cell_type": "code",
   "execution_count": 60,
   "metadata": {},
   "outputs": [
    {
     "name": "stderr",
     "output_type": "stream",
     "text": [
      "C:\\Users\\See tha\\Anaconda3\\lib\\site-packages\\keras\\datasets\\imdb.py:45: UserWarning: The `nb_words` argument in `load_data` has been renamed `num_words`.\n",
      "  warnings.warn('The `nb_words` argument in `load_data` '\n"
     ]
    },
    {
     "data": {
      "text/plain": [
       "((array([ list([1, 121, 81, 36, 79, 4, 278, 8, 97, 108, 40, 14, 13, 384, 225, 164, 1653, 44, 14, 22, 600, 7, 4, 156, 26, 573, 4, 487, 9, 394, 4, 1381, 9, 2, 4, 65, 2, 200, 112, 6, 78, 310, 7, 2, 132, 5, 6, 2, 1010, 5, 4, 116, 9, 1297, 18, 294, 37, 3631, 32, 2572, 7, 22, 52, 5, 78, 13, 215, 974, 15, 14, 22, 9, 44, 4, 249, 207, 110, 237, 1274, 7, 4, 744, 84, 145, 11, 4, 3707, 13, 92, 66, 40, 8, 1157, 4, 781, 7, 84, 269, 8, 987, 49, 722, 42, 1827, 2, 498, 21, 14, 22, 62, 306, 8, 1271, 8, 57, 31, 4, 65, 2, 23, 6, 2, 2, 7, 6, 415, 871, 6, 78, 310, 7, 4, 2, 1357, 2, 261, 29, 2, 53, 40, 6, 915, 2, 209, 4, 861, 2, 4, 78, 493, 28, 8, 768, 56, 19, 4, 52, 493, 11, 6, 513, 121, 36, 26, 2103, 8, 1090, 39, 193, 12, 39, 50, 17, 15, 2940, 9, 4, 118, 173, 61, 2017, 9, 15, 894, 25, 26, 83, 78, 2, 2342, 487, 2631, 116, 5, 2332, 2775, 25, 80, 118, 30, 3009, 34, 1200, 14, 31, 23, 4, 4200, 54, 335, 46, 2753, 3364]),\n",
       "         list([1, 3614, 261, 29, 70, 81, 4, 2, 2102, 9, 6, 601, 3463, 17, 35, 284, 10, 10, 14, 22, 9, 2, 83, 61, 1757, 17, 31, 7, 4, 91, 499, 2, 954, 5, 4767, 102, 13, 28, 126, 110, 17, 141, 146, 165, 247, 4219, 7, 12, 10, 10, 131, 4, 64, 282, 14, 214, 53, 74, 31, 323, 9, 15, 2102, 9, 87, 2995, 5, 45, 253, 8, 67, 27, 2409, 2, 648, 3462, 998, 2, 7, 2, 2703, 23, 4, 2990, 2, 3339, 5, 2, 2, 44, 4, 2924, 1874, 704, 499, 587, 4, 3149, 2, 1817, 2, 73, 2, 11, 4, 655, 7, 6, 2059, 4547, 15, 2102, 1077, 8, 4557, 27, 2194, 11, 4, 1590, 7, 998, 2140, 2, 21, 387, 4, 338, 232, 911, 27, 1642, 5, 353, 8, 2, 5, 101, 2, 15, 29, 238, 28, 6, 22, 611, 9, 1241, 2, 8, 1801, 10, 10, 2102, 33, 222, 69, 4, 1338, 15, 29, 286, 66, 35, 284, 316, 334, 11, 4, 22, 156, 167, 3794, 370, 493, 525, 9, 33, 222, 17, 78, 42, 60, 433, 5, 91, 7, 98, 26, 2, 38, 3199, 152, 216, 125, 179, 17, 913, 17, 25, 238, 104, 10, 10, 13, 440, 338, 3199, 562, 4, 278, 5, 2178, 48, 259, 126, 1643, 90, 8, 3126, 11, 6, 1647, 1733, 22, 174, 637, 2134, 15, 2102, 3415, 4, 232, 11, 4, 393]),\n",
       "         list([1, 1121, 1217, 7, 4, 65, 9, 6, 635, 2747, 283, 635, 1186, 26, 55, 163, 25, 28, 8, 462, 54, 25, 67, 89, 84, 70, 30, 379, 2, 5, 932, 4, 118, 2786, 80, 30, 48, 25, 106, 12, 23, 129, 205]),\n",
       "         ...,\n",
       "         list([1, 261, 45, 35, 1479, 1150, 20, 13, 66, 824, 15, 490, 66, 358, 12, 894, 335, 6, 2343, 10, 10, 138, 88, 225, 57, 147, 114, 57, 109, 943, 57, 163, 640, 10, 10, 4, 64, 155, 15, 14, 20, 47, 958, 7, 9, 1006, 3400, 5, 3400, 7, 1298, 42, 220, 1298, 4685, 184, 327, 663, 13, 238, 763, 8, 2, 129, 523, 23, 10, 10, 13, 66, 191, 391, 138, 14, 20, 47, 4, 298, 3274, 425, 237, 45, 64, 6, 78, 2221, 200, 35, 2475, 20, 5, 6, 212, 209, 2, 11, 112, 345, 7, 98, 10, 10, 61, 2, 9, 8, 106, 14, 20, 64, 48, 25, 181, 8, 67, 49, 1298, 4685, 21, 335, 99, 3566, 8, 851, 818, 35, 2475, 20, 10, 10, 520, 12, 300, 158, 18, 4, 241, 2, 13, 69, 11, 4, 436, 20, 5, 160, 241, 158, 18, 4, 327, 4685]),\n",
       "         list([1, 86, 125, 474, 40, 8, 135, 15, 48, 13, 69, 8, 1252, 967, 14, 20, 39, 6, 300, 8, 6, 158, 95, 474, 202, 12, 6, 470, 45, 24, 15, 146, 6, 1211, 3857, 45, 43, 15, 14, 20, 9, 15, 78, 285, 39, 4, 65, 8, 4, 940, 8, 4, 802, 9, 373, 4, 65, 9, 24, 60, 2807, 542, 8, 895, 19, 25, 191, 535, 76, 237, 12, 9, 448, 23, 6, 374, 500, 142, 13, 16, 24, 1887, 7, 170, 83, 4, 20, 21, 4, 940, 5, 802, 93, 12, 60, 433, 4, 20, 1902, 33, 2094, 757, 5, 271, 8, 139, 15, 26, 340, 2, 8, 4, 960, 663, 49, 40, 6, 1605, 383, 136, 11, 4, 655, 92, 60, 97, 281, 112, 276, 83, 4, 65, 319, 17, 89, 4, 105, 92, 123, 101, 1417, 1841, 257, 85, 25, 100, 140, 83, 14, 20, 1017, 8, 67, 6, 2446, 7, 595, 23, 4, 268, 18, 35, 534, 5, 6, 320, 5, 1390, 131, 30, 685, 1252, 48, 25, 990, 8, 106, 14, 20, 95, 25, 26, 3121, 129, 278, 5, 48, 25, 92, 990, 233, 95, 25, 26, 131, 3121, 35, 534, 5, 6, 320, 7, 129, 113, 38, 81, 624, 6, 2077, 5, 92, 106, 12]),\n",
       "         list([1, 13, 86, 219, 14, 20, 133, 11, 4, 1206, 2295, 11, 2, 2, 54, 1375, 248, 3851, 12, 13, 131, 28, 4, 374, 2214, 261, 4737, 46, 120, 4, 153, 111, 369, 5, 223, 1066, 28, 4902, 12, 5, 28, 82, 77, 2, 34, 12, 10, 10, 553, 13, 377, 582, 344, 15, 314, 2, 6, 982, 2, 2, 4, 2690, 46, 5, 149, 51, 16, 2, 17, 6, 2, 1213, 2, 60, 150, 13, 377, 813, 139, 15, 131, 2222, 4, 2, 23, 61, 3307, 2090, 23, 130, 10, 10, 13, 28, 110, 49, 795, 23, 4, 20, 63, 135, 45, 24, 14, 5, 24, 15, 13, 104, 148, 84, 79, 1765, 34, 2553, 4971, 5, 4, 40, 2, 5, 2, 2, 63, 26, 1322, 14, 9, 6, 2, 1213, 65, 50, 9, 57, 194, 352, 206, 42, 318, 302, 57, 2, 57, 541, 57, 2172, 383, 139, 57, 2, 42, 1865, 525, 38, 89, 2434, 45, 3151, 48, 25, 40, 2860, 189, 73, 398, 73, 917, 5, 19, 6, 2070, 629, 841, 14, 9, 4, 20, 18, 25, 13, 40, 4, 204, 3645, 64, 236, 314, 13, 219, 4, 204, 2299, 5, 15, 9, 6, 897, 20, 55, 3151, 174, 5, 38, 9, 4, 255, 11, 328, 4, 130, 7, 4, 20, 2, 8, 4, 274, 21, 131, 55, 52, 13, 386, 12, 353, 12, 25, 80, 40, 12, 48, 25, 40, 2040, 1213, 537, 38, 471, 125, 4, 2690, 471, 56, 4, 968, 2, 4, 3594, 4003, 6, 3163, 5, 358])], dtype=object),\n",
       "  array([0, 0, 1, ..., 0, 0, 1], dtype=int64)),\n",
       " (array([ list([1, 13, 296, 14, 201, 46, 7, 3616, 1786, 8, 67, 48, 36, 100, 869, 5, 19, 32, 14, 682, 2131, 46, 81, 2, 503, 2, 356, 1711, 7, 2, 1184, 2, 3634, 2, 5, 2688, 2, 2, 7, 265, 13, 16, 387, 180, 422, 36, 69, 32, 4, 2, 105, 2296, 21, 36, 161, 202, 178, 101, 7, 4, 2093, 2253, 139, 15, 1428, 129, 602, 469, 4, 86, 20, 48, 25, 170, 8, 28, 6, 2387, 201, 25, 28, 8, 28, 49, 139, 4, 3251, 3450, 2, 4, 767, 2019, 2, 2, 1430, 2, 100, 28, 77, 224, 19, 2, 2131, 23, 4, 2407, 7, 2645, 102, 141, 17, 1635, 7, 4, 2666, 42, 4, 2661, 540, 36, 161, 181, 8, 563, 6, 2, 1384, 7, 1804, 5, 3552, 63, 9, 76, 887, 11, 134, 1113, 211]),\n",
       "         list([1, 3648, 724, 2607, 540, 270, 23, 4, 2, 7, 132, 2, 17, 4, 178, 55, 913, 5, 368, 7, 605, 967, 698, 156, 37, 191, 81, 298, 2458, 6, 969, 15, 272, 40, 35, 2, 605, 46, 18, 1536, 39, 6, 20, 1130, 19, 4, 91, 2, 2194, 126, 110, 539, 11, 4, 3014, 2, 2539, 2539, 2539, 25, 79, 4, 326, 92, 106, 12, 521, 245, 2421, 798]),\n",
       "         list([1, 14, 22, 9, 38, 275, 8, 233, 25, 62, 28, 110, 159, 45, 35, 1202, 5, 2860, 2650, 7, 35, 436, 4718, 985, 19, 6, 2, 4696, 10, 10, 1065, 2439, 59, 9, 324, 11, 6, 55, 955, 405, 3789, 108, 11, 6, 55, 275, 96, 772, 275, 2445, 5, 2, 11, 51, 13, 169, 9, 6, 55, 744, 4576, 1377, 382, 688, 8, 27, 585, 19, 2, 495, 10, 10, 27, 405, 408, 141, 6, 788, 431, 7, 24, 64, 51, 4, 3127, 765, 9, 4432, 21, 51, 447, 663, 491, 8, 41, 82, 28, 8, 855, 19, 10, 10, 6, 55, 619, 21, 576, 221, 5, 955, 22, 31, 13, 62, 407, 1467, 149]),\n",
       "         ...,\n",
       "         list([1, 2, 9, 695, 2, 7, 4, 2, 2, 7, 823, 108, 626, 237, 2, 2, 562, 4, 512, 34, 3162, 19, 2, 2515, 5, 3995, 1219, 11, 4, 402, 2, 21, 12, 47, 195, 1008, 7, 45, 205, 8, 2, 15, 12, 1287, 35, 221, 117, 22, 2, 2, 6, 171, 105, 669, 746, 6, 686, 1622, 12, 495, 88, 257, 109, 9, 2812, 195, 11, 68, 205, 208, 8, 30, 906, 5, 54, 276, 295, 51, 874, 188, 9, 6, 55, 1139, 117, 708, 50, 9, 117, 2327, 8, 30, 258, 746, 4, 114, 21, 12, 152, 551, 88, 1337, 271, 83, 14, 432, 7, 22, 1017, 6, 113, 2, 585, 4, 114, 1160, 2, 6, 1138, 1392, 2, 37, 47, 825, 730, 5, 9, 150, 581, 17, 6, 1112, 2, 11, 2, 19, 27, 322, 4, 2162, 494, 8, 2, 6, 506, 21, 183, 471, 2, 54, 2, 4955, 6, 1980, 39, 27, 154, 1943, 11, 823, 1851, 37, 839, 19, 90, 6, 420, 7, 1886, 5, 6, 3817, 7, 278, 2586, 39, 4, 1788, 2, 9, 170, 8, 471, 46, 8, 30, 6, 55, 221, 251, 18, 263, 1138, 1676, 10, 10, 4, 86, 136, 732, 4, 22, 56, 247, 1780, 5, 2, 15, 75, 124, 51, 8, 535, 75, 67, 6, 4099, 661, 140, 355, 63, 505, 83, 6, 588, 136, 15, 4, 2, 2, 1108, 56, 54, 6, 1002, 266, 11, 18, 2, 4, 136, 9, 2, 19, 465, 1285, 5, 1920, 3963, 5, 15, 9, 2937, 23, 469, 4, 360, 7, 4, 20, 2, 9, 6, 55, 163, 22, 5, 139, 141, 17, 4, 663, 15, 67, 4, 2, 2, 471, 56, 33, 35, 2094, 58, 2, 15, 4, 22, 9, 878, 8, 3122, 45, 283, 15, 4, 22, 152, 721, 233, 162, 8, 4, 2702, 2, 42, 114, 1567, 21, 4, 192, 15, 45, 654, 8, 2, 11, 94, 2, 2, 15, 225, 53, 58, 18, 4, 1755, 904, 8, 1703, 187, 4, 1375, 105, 4, 116, 9, 542, 195, 19, 4, 436, 177, 695, 260, 253, 19, 14, 114, 2102, 1016, 1777, 4, 22, 295, 73, 11, 4, 485, 217, 137, 1139, 2, 39, 592, 2, 488, 2, 3848, 2, 5, 4111, 2, 145, 90, 56, 1780, 14, 22, 9, 2388, 8, 4171, 4, 2, 22, 337, 21, 48, 25, 43, 181, 35, 1139, 117, 20, 19, 6, 171, 737, 1299, 5, 354, 2, 9, 1329, 8, 4917]),\n",
       "         list([1, 13, 566, 264, 89, 404, 14, 20, 9, 87, 4425, 2876, 52, 769, 5, 4, 1860, 449, 4, 1860, 14, 20, 16, 87, 4, 105, 36, 168, 147, 195, 8, 30, 1192, 147, 36, 407, 2, 4, 663, 39, 4, 500, 950, 4, 136, 11, 63, 73, 32, 4, 139, 93, 61, 4699, 2440, 777, 158, 158, 2876, 4, 65, 950, 1852, 935, 4, 96, 266, 8, 339, 2, 33, 111, 275, 211, 11, 4, 20, 36, 1260, 12, 55, 73, 5, 97, 129, 4699, 2440, 39, 89, 404, 12, 9, 21, 4, 3611, 1860, 81, 193, 49, 65, 46, 21, 15, 9, 64, 6, 1403, 155, 65, 790, 457, 158, 285, 334, 87, 4, 20, 16, 43, 480, 13, 66, 81, 24, 124, 51, 53, 13, 70, 135, 549, 15, 14, 20, 16, 184, 76, 404, 13, 447, 12]),\n",
       "         list([1, 14, 9, 31, 7, 148, 356, 298, 93, 18, 248, 102, 15, 26, 43, 93, 18, 149, 23, 6, 2, 2655, 261, 4, 229, 9, 545, 4035, 12, 115, 304, 410, 99, 615, 5, 1082, 81, 4, 177, 63, 832, 8, 6, 87, 3028, 11, 3850, 588, 736, 189, 22, 118, 510, 19, 6, 2, 3119, 7, 3912, 42, 953, 7, 2, 6, 194, 4437, 7, 14, 22, 9, 4, 777, 1622, 1423, 5, 466, 4, 680, 2, 23, 5, 60, 3128, 2, 2161, 2144, 13, 18, 31, 62, 24, 330, 581, 50, 10, 10, 32, 11, 32, 6, 87, 22, 8, 106, 120, 5, 120, 174])], dtype=object),\n",
       "  array([0, 0, 1, ..., 1, 1, 1], dtype=int64)))"
      ]
     },
     "execution_count": 60,
     "metadata": {},
     "output_type": "execute_result"
    }
   ],
   "source": [
    "imdb.load_data(nb_words=5000)"
   ]
  },
  {
   "cell_type": "code",
   "execution_count": 62,
   "metadata": {},
   "outputs": [
    {
     "data": {
      "text/plain": [
       "<function keras.preprocessing.sequence.pad_sequences>"
      ]
     },
     "execution_count": 62,
     "metadata": {},
     "output_type": "execute_result"
    }
   ],
   "source": [
    "from keras.layers import Embedding\n",
    "\n",
    "from keras.preprocessing import sequence\n",
    "\n",
    "from keras.preprocessing.sequence import pad_sequences\n",
    "pad_sequences\n",
    "\n",
    "\n"
   ]
  },
  {
   "cell_type": "code",
   "execution_count": 64,
   "metadata": {
    "collapsed": true
   },
   "outputs": [],
   "source": [
    "\n",
    "\n",
    "x_train =pad_sequences(x_train, maxlen=500)\n",
    "x_test = pad_sequences(x_test, maxlen=500)\n"
   ]
  },
  {
   "cell_type": "code",
   "execution_count": 65,
   "metadata": {},
   "outputs": [
    {
     "data": {
      "text/plain": [
       "<keras.layers.embeddings.Embedding at 0x1f1faa9cf98>"
      ]
     },
     "execution_count": 65,
     "metadata": {},
     "output_type": "execute_result"
    }
   ],
   "source": [
    "Embedding (5000,32, input_length=500)"
   ]
  },
  {
   "cell_type": "code",
   "execution_count": 66,
   "metadata": {
    "collapsed": true
   },
   "outputs": [],
   "source": [
    "# MLP for the IMDB problem\n",
    "import numpy\n",
    "from keras.datasets import imdb\n",
    "from keras.models import Sequential\n",
    "from keras.layers import Dense\n",
    "from keras.layers import Flatten\n",
    "from keras.layers.embeddings import Embedding\n",
    "from keras.preprocessing import sequence\n",
    "# fix random seed for reproducibility\n",
    "seed = 7\n",
    "numpy.random.seed(seed)"
   ]
  },
  {
   "cell_type": "code",
   "execution_count": 67,
   "metadata": {
    "collapsed": true
   },
   "outputs": [],
   "source": [
    "\n",
    "\n",
    "# load the dataset but only keep the top n words, zero the rest\n",
    "top_words = 5000\n",
    "(X_train, y_train), (X_test, y_test) = imdb.load_data(num_words=top_words)\n"
   ]
  },
  {
   "cell_type": "code",
   "execution_count": 68,
   "metadata": {
    "collapsed": true
   },
   "outputs": [],
   "source": [
    "#We will bound reviews at 500 words, truncating longer reviews and zero-padding shorter reviews.\n",
    "\n",
    "\n",
    "max_words = 500\n",
    "X_train = sequence.pad_sequences(X_train, maxlen=max_words)\n",
    "X_test = sequence.pad_sequences(X_test, maxlen=max_words)\n"
   ]
  },
  {
   "cell_type": "code",
   "execution_count": 69,
   "metadata": {},
   "outputs": [
    {
     "name": "stdout",
     "output_type": "stream",
     "text": [
      "_________________________________________________________________\n",
      "Layer (type)                 Output Shape              Param #   \n",
      "=================================================================\n",
      "embedding_2 (Embedding)      (None, 500, 32)           160000    \n",
      "_________________________________________________________________\n",
      "flatten_1 (Flatten)          (None, 16000)             0         \n",
      "_________________________________________________________________\n",
      "dense_1 (Dense)              (None, 250)               4000250   \n",
      "_________________________________________________________________\n",
      "dense_2 (Dense)              (None, 1)                 251       \n",
      "=================================================================\n",
      "Total params: 4,160,501\n",
      "Trainable params: 4,160,501\n",
      "Non-trainable params: 0\n",
      "_________________________________________________________________\n",
      "None\n"
     ]
    }
   ],
   "source": [
    "\n",
    "\n",
    "\n",
    "# create the model\n",
    "model = Sequential()\n",
    "model.add(Embedding(top_words, 32, input_length=max_words))\n",
    "model.add(Flatten())\n",
    "model.add(Dense(250, activation='relu'))\n",
    "model.add(Dense(1, activation='sigmoid'))\n",
    "model.compile(loss='binary_crossentropy', optimizer='adam', metrics=['accuracy'])\n",
    "print(model.summary())\n"
   ]
  },
  {
   "cell_type": "code",
   "execution_count": null,
   "metadata": {},
   "outputs": [
    {
     "name": "stdout",
     "output_type": "stream",
     "text": [
      "Train on 25000 samples, validate on 25000 samples\n",
      "Epoch 1/2\n"
     ]
    }
   ],
   "source": [
    "\n",
    "\n",
    "# Fit the model\n",
    "model.fit(X_train, y_train, validation_data=(X_test, y_test), epochs=2, batch_size=128, verbose=2)\n",
    "# Final evaluation of the model\n",
    "scores = model.evaluate(X_test, y_test, verbose=0)\n",
    "print(\"Accuracy: %.2f%%\" % (scores[1]*100))\n"
   ]
  },
  {
   "cell_type": "code",
   "execution_count": null,
   "metadata": {
    "collapsed": true
   },
   "outputs": [],
   "source": []
  }
 ],
 "metadata": {
  "kernelspec": {
   "display_name": "Python 3",
   "language": "python",
   "name": "python3"
  },
  "language_info": {
   "codemirror_mode": {
    "name": "ipython",
    "version": 3
   },
   "file_extension": ".py",
   "mimetype": "text/x-python",
   "name": "python",
   "nbconvert_exporter": "python",
   "pygments_lexer": "ipython3",
   "version": "3.6.2"
  }
 },
 "nbformat": 4,
 "nbformat_minor": 2
}
